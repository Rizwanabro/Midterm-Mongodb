{
 "cells": [
  {
   "cell_type": "code",
   "execution_count": 1,
   "id": "f2f9760a",
   "metadata": {},
   "outputs": [],
   "source": [
    "# import libraries\n",
    "import re\n",
    "import urllib3\n",
    "import certifi"
   ]
  },
  {
   "cell_type": "code",
   "execution_count": 2,
   "id": "7616fbbb",
   "metadata": {},
   "outputs": [],
   "source": [
    "# constract all regular expressions ( I added regex in a text separated file for better reading access chek it if needed)\n",
    "title_regex=re.compile(r\"class=\\\"title\\\">(.+)\")\n",
    "date_regex=re.compile(r\"class=\\\"clamp-details\\\">\\s+(.+)\")\n",
    "description_regex=re.compile(r\"\\\"summary\\\">\\s*([\\S\\s]+?)\\s*\")\n",
    "score_regex = re.compile(r\"\\\"title\\\">Metascore:\\s+\\\"metascore_anchor\\\" href=\\\"/movie/.*?/critic-reviews\\\">\\s+\\\"metascore_w large movie .+\\\">(.*?)\")\n",
    "image_regex = re.compile(r\"\\\"/movie/.*\\\">\\\"(.*)\\\" alt=\\\"\")\n",
    "\n",
    "# Construct an HTTP pool for connection\n",
    "http=urllib3.PoolManager(ca_certs=certifi.where())"
   ]
  },
  {
   "cell_type": "code",
   "execution_count": 3,
   "id": "9422af77",
   "metadata": {},
   "outputs": [],
   "source": [
    "import json\n",
    "import pymongo\n",
    "import certifi\n",
    "# retrieve creditials to connect MongoDB\n",
    "with open('F:/secrets.json') as f:\n",
    "    data = json.load(f)\n",
    "    secret_key = data['mongodb']\n",
    "\n",
    "# Connect to the database using known good certificates\n",
    "client = pymongo.MongoClient(secret_key, tlsCAFile=certifi.where())\n",
    "# Fetch the database named \"DA-320\"\n",
    "da320_database = client['IMDB_METACRITIC']\n",
    "\n",
    "# Within the database we have \"collections\". Think of them as tables in SQL.\n",
    "metacritic_data = da320_database['metacritic']"
   ]
  },
  {
   "cell_type": "code",
   "execution_count": 4,
   "id": "81ba07de",
   "metadata": {},
   "outputs": [],
   "source": [
    "import pandas as pd\n",
    "#retrive a list of movies from a particular year and page of Metacritic\n",
    "def metacritic_scraper (year:int,page:int) -> pd.DataFrame:\n",
    "    #fetch the webpage\n",
    "   url = f\"https://www.metacritic.com/browse/movies/score/metascore/year/filtered?year_selected={year}&sort=desc&view=detailed&page={page}\"\n",
    "   # Construct python request pool\n",
    "   response = http.request('GET',url,headers={'User-Agent':'Mozilla/5.0'})\n",
    "   datastring = str(response.data, \"utf-8\")\n",
    "\n",
    "   #execute all regular expression\n",
    "   titles = title_regex.findall(datastring)\n",
    "   dates = date_regex.findall(datastring)\n",
    "   descriptions = description_regex.findall(datastring)\n",
    "   scores = score_regex.findall(datastring)\n",
    "   images = image_regex.findall(datastring)\n",
    "   #return unified collection  \n",
    "   print(\"title: \" , len(titles), \"date: \" , len(dates), \"description: \" , len(descriptions), \"score: \" , len(scores), \"image: \" , len(images))\n",
    "   dataset = {\"title\": titles, \"date\": dates, \"description\": descriptions, \"score\": scores, \"image\":images}\n",
    "   return pd.DataFrame(dataset) "
   ]
  },
  {
   "cell_type": "code",
   "execution_count": null,
   "id": "5d0f261a",
   "metadata": {},
   "outputs": [],
   "source": [
    "import re\n",
    "import time\n",
    "\n",
    "#Writing to CVS file\n",
    "for year in range(2000,2023):\n",
    "   page=0\n",
    "   print(f\"Collection date for {year} page {page}.....\")\n",
    "\n",
    "   #retry a page multiple times\n",
    "   while True:\n",
    "      data = metacritic_scraper(year,page)\n",
    "\n",
    "      #stop when we reach a page with zero rows\n",
    "      if len(data) == 0:\n",
    "         break\n",
    "\n",
    "      #conver the dataframe into a list of movies to insert into Mongo DB\n",
    "      movies_to_insert =[]\n",
    "      for row in data.itertuples():\n",
    "         movie = {\n",
    "            \"title\": row.title,\n",
    "            \"release_date\": row.date,\n",
    "            \"description\": row.description,\n",
    "            \"metascore\": row.score,\n",
    "            \"image_url\": row.image,\n",
    "         }\n",
    "         movies_to_insert.append(movie)\n",
    "         \n",
    "      #insert resords into MongoDB\n",
    "      print(f\"Inserting{len(movies_to_insert)} moview for year {year} page {page}\")\n",
    "      metacritic_data.insert_many(movies_to_insert)\n",
    "      page = page+1"
   ]
  }
 ],
 "metadata": {
  "kernelspec": {
   "display_name": "Python 3 (ipykernel)",
   "language": "python",
   "name": "python3"
  },
  "language_info": {
   "codemirror_mode": {
    "name": "ipython",
    "version": 3
   },
   "file_extension": ".py",
   "mimetype": "text/x-python",
   "name": "python",
   "nbconvert_exporter": "python",
   "pygments_lexer": "ipython3",
   "version": "3.9.12"
  }
 },
 "nbformat": 4,
 "nbformat_minor": 5
}
